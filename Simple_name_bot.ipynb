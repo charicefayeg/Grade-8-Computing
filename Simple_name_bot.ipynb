{
  "nbformat": 4,
  "nbformat_minor": 0,
  "metadata": {
    "colab": {
      "provenance": [],
      "authorship_tag": "ABX9TyOKrhmX0R6W2ylPQJAmoteh",
      "include_colab_link": true
    },
    "kernelspec": {
      "name": "python3",
      "display_name": "Python 3"
    },
    "language_info": {
      "name": "python"
    }
  },
  "cells": [
    {
      "cell_type": "markdown",
      "metadata": {
        "id": "view-in-github",
        "colab_type": "text"
      },
      "source": [
        "<a href=\"https://colab.research.google.com/github/charicefayeg/Grade-8-Computing/blob/main/Simple_name_bot.ipynb\" target=\"_parent\"><img src=\"https://colab.research.google.com/assets/colab-badge.svg\" alt=\"Open In Colab\"/></a>"
      ]
    },
    {
      "cell_type": "code",
      "execution_count": 1,
      "metadata": {
        "colab": {
          "base_uri": "https://localhost:8080/"
        },
        "id": "z-b91GVBC-w0",
        "outputId": "92ab447c-e9b0-48e8-ffd1-4a086edafae9"
      },
      "outputs": [
        {
          "output_type": "stream",
          "name": "stdout",
          "text": [
            "Please type your name: Charice\n",
            "Please input your age: 12\n",
            "Hi Charice you are 12 years old\n"
          ]
        }
      ],
      "source": [
        "name = input(\"Please type your name: \")\n",
        "age = input(\"Please input your age: \")\n",
        "print(\"Hi\" ,name, \"you are\" ,age, \"years old\")"
      ]
    }
  ]
}